{
 "cells": [
  {
   "cell_type": "code",
   "execution_count": 1,
   "id": "8f2cd450",
   "metadata": {},
   "outputs": [],
   "source": [
    "x = 50"
   ]
  },
  {
   "cell_type": "code",
   "execution_count": 2,
   "id": "b2aae84f",
   "metadata": {},
   "outputs": [],
   "source": [
    "c = 80"
   ]
  },
  {
   "cell_type": "code",
   "execution_count": 3,
   "id": "00d3fc51",
   "metadata": {},
   "outputs": [
    {
     "name": "stdout",
     "output_type": "stream",
     "text": [
      "130\n"
     ]
    }
   ],
   "source": [
    "def sum():\n",
    "    sum = x + c\n",
    "    return sum\n",
    "print(sum())"
   ]
  },
  {
   "cell_type": "code",
   "execution_count": null,
   "id": "ea39f0db",
   "metadata": {},
   "outputs": [],
   "source": []
  },
  {
   "cell_type": "code",
   "execution_count": 1,
   "id": "e31b522f",
   "metadata": {},
   "outputs": [],
   "source": [
    "w = 40"
   ]
  },
  {
   "cell_type": "code",
   "execution_count": 7,
   "id": "77722db7",
   "metadata": {},
   "outputs": [],
   "source": [
    "Ew = 500"
   ]
  },
  {
   "cell_type": "code",
   "execution_count": null,
   "id": "d48fd5ba",
   "metadata": {},
   "outputs": [],
   "source": []
  },
  {
   "cell_type": "code",
   "execution_count": 8,
   "id": "86d1f52c",
   "metadata": {},
   "outputs": [],
   "source": [
    "age = 90"
   ]
  },
  {
   "cell_type": "code",
   "execution_count": 9,
   "id": "3c0647f6",
   "metadata": {},
   "outputs": [
    {
     "name": "stdout",
     "output_type": "stream",
     "text": [
      "<class 'int'>\n"
     ]
    }
   ],
   "source": [
    "print(type(age))"
   ]
  },
  {
   "cell_type": "code",
   "execution_count": 10,
   "id": "7ed50e56",
   "metadata": {},
   "outputs": [
    {
     "name": "stdout",
     "output_type": "stream",
     "text": [
      "90\n"
     ]
    }
   ],
   "source": [
    "print(age)"
   ]
  },
  {
   "cell_type": "code",
   "execution_count": null,
   "id": "19077314",
   "metadata": {},
   "outputs": [],
   "source": []
  },
  {
   "cell_type": "code",
   "execution_count": 11,
   "id": "c3ce575c",
   "metadata": {},
   "outputs": [],
   "source": [
    "name =(\"evans\")"
   ]
  },
  {
   "cell_type": "code",
   "execution_count": 12,
   "id": "6acd360a",
   "metadata": {},
   "outputs": [
    {
     "name": "stdout",
     "output_type": "stream",
     "text": [
      "evans\n"
     ]
    }
   ],
   "source": [
    "print(name)"
   ]
  },
  {
   "cell_type": "code",
   "execution_count": 13,
   "id": "9cb6ab48",
   "metadata": {},
   "outputs": [
    {
     "name": "stdout",
     "output_type": "stream",
     "text": [
      "<class 'str'>\n"
     ]
    }
   ],
   "source": [
    "print(type(name))"
   ]
  },
  {
   "cell_type": "code",
   "execution_count": null,
   "id": "5119e467",
   "metadata": {},
   "outputs": [],
   "source": []
  },
  {
   "cell_type": "code",
   "execution_count": 1,
   "id": "0d557c53",
   "metadata": {},
   "outputs": [],
   "source": [
    "numbers_of_student = 100"
   ]
  },
  {
   "cell_type": "code",
   "execution_count": 2,
   "id": "7067b85d",
   "metadata": {},
   "outputs": [
    {
     "name": "stdout",
     "output_type": "stream",
     "text": [
      "100\n"
     ]
    }
   ],
   "source": [
    "print(numbers_of_student)"
   ]
  },
  {
   "cell_type": "code",
   "execution_count": 3,
   "id": "94f21799",
   "metadata": {},
   "outputs": [
    {
     "name": "stdout",
     "output_type": "stream",
     "text": [
      "100\n"
     ]
    }
   ],
   "source": [
    "print(numbers_of_student)"
   ]
  },
  {
   "cell_type": "code",
   "execution_count": 1,
   "id": "ed397a87",
   "metadata": {},
   "outputs": [
    {
     "name": "stdout",
     "output_type": "stream",
     "text": [
      "<class 'type'>\n"
     ]
    }
   ],
   "source": [
    "print(type)"
   ]
  },
  {
   "cell_type": "code",
   "execution_count": null,
   "id": "8194eda7",
   "metadata": {},
   "outputs": [],
   "source": []
  },
  {
   "cell_type": "code",
   "execution_count": 2,
   "id": "840cf2ed",
   "metadata": {},
   "outputs": [],
   "source": [
    "age = 45"
   ]
  },
  {
   "cell_type": "code",
   "execution_count": 3,
   "id": "c773d708",
   "metadata": {},
   "outputs": [
    {
     "name": "stdout",
     "output_type": "stream",
     "text": [
      "<class 'int'>\n"
     ]
    }
   ],
   "source": [
    "print(type(age))"
   ]
  },
  {
   "cell_type": "code",
   "execution_count": 4,
   "id": "c016986f",
   "metadata": {},
   "outputs": [
    {
     "name": "stdout",
     "output_type": "stream",
     "text": [
      "45\n"
     ]
    }
   ],
   "source": [
    "print(age)"
   ]
  },
  {
   "cell_type": "code",
   "execution_count": null,
   "id": "c4102912",
   "metadata": {},
   "outputs": [],
   "source": []
  },
  {
   "cell_type": "code",
   "execution_count": 6,
   "id": "f4661e6c",
   "metadata": {},
   "outputs": [],
   "source": [
    "name_of_student = \"evans\""
   ]
  },
  {
   "cell_type": "code",
   "execution_count": 7,
   "id": "d98692b6",
   "metadata": {},
   "outputs": [
    {
     "name": "stdout",
     "output_type": "stream",
     "text": [
      "<class 'str'>\n"
     ]
    }
   ],
   "source": [
    "print(type(name_of_student))"
   ]
  },
  {
   "cell_type": "code",
   "execution_count": 8,
   "id": "ce5cba6c",
   "metadata": {},
   "outputs": [
    {
     "name": "stdout",
     "output_type": "stream",
     "text": [
      "evans\n"
     ]
    }
   ],
   "source": [
    "print(name_of_student)"
   ]
  },
  {
   "cell_type": "code",
   "execution_count": null,
   "id": "2ce2b920",
   "metadata": {},
   "outputs": [],
   "source": []
  },
  {
   "cell_type": "code",
   "execution_count": 9,
   "id": "67d4533f",
   "metadata": {},
   "outputs": [],
   "source": [
    "Overdraft_payment = 40.000"
   ]
  },
  {
   "cell_type": "code",
   "execution_count": 10,
   "id": "10c47c8e",
   "metadata": {},
   "outputs": [
    {
     "name": "stdout",
     "output_type": "stream",
     "text": [
      "<class 'float'>\n"
     ]
    }
   ],
   "source": [
    "print(type(Overdraft_payment))"
   ]
  },
  {
   "cell_type": "code",
   "execution_count": 11,
   "id": "bf7befef",
   "metadata": {},
   "outputs": [
    {
     "name": "stdout",
     "output_type": "stream",
     "text": [
      "40.0\n"
     ]
    }
   ],
   "source": [
    "print(Overdraft_payment)"
   ]
  },
  {
   "cell_type": "code",
   "execution_count": null,
   "id": "981668a5",
   "metadata": {},
   "outputs": [],
   "source": []
  },
  {
   "cell_type": "code",
   "execution_count": 14,
   "id": "883a8988",
   "metadata": {},
   "outputs": [],
   "source": [
    "gender_male = True"
   ]
  },
  {
   "cell_type": "code",
   "execution_count": 15,
   "id": "171917f4",
   "metadata": {},
   "outputs": [
    {
     "name": "stdout",
     "output_type": "stream",
     "text": [
      "<class 'bool'>\n"
     ]
    }
   ],
   "source": [
    "print(type(gender_male))"
   ]
  },
  {
   "cell_type": "code",
   "execution_count": 16,
   "id": "5fb51f58",
   "metadata": {},
   "outputs": [
    {
     "name": "stdout",
     "output_type": "stream",
     "text": [
      "True\n"
     ]
    }
   ],
   "source": [
    "print(gender_male)"
   ]
  },
  {
   "cell_type": "code",
   "execution_count": null,
   "id": "2d92e95c",
   "metadata": {},
   "outputs": [],
   "source": []
  },
  {
   "cell_type": "code",
   "execution_count": null,
   "id": "8e8b5c1f",
   "metadata": {},
   "outputs": [],
   "source": []
  },
  {
   "cell_type": "code",
   "execution_count": null,
   "id": "6007012f",
   "metadata": {},
   "outputs": [],
   "source": []
  },
  {
   "cell_type": "code",
   "execution_count": null,
   "id": "16116838",
   "metadata": {},
   "outputs": [],
   "source": []
  },
  {
   "cell_type": "code",
   "execution_count": null,
   "id": "9c493a97",
   "metadata": {},
   "outputs": [],
   "source": []
  },
  {
   "cell_type": "code",
   "execution_count": null,
   "id": "476c36db",
   "metadata": {},
   "outputs": [],
   "source": []
  },
  {
   "cell_type": "code",
   "execution_count": 1,
   "id": "d534d42c",
   "metadata": {},
   "outputs": [],
   "source": [
    "age = 12\n",
    "height = 7.5\n",
    "is_married = True\n",
    "name = \"evans\""
   ]
  },
  {
   "cell_type": "code",
   "execution_count": 2,
   "id": "1274db09",
   "metadata": {},
   "outputs": [
    {
     "name": "stdout",
     "output_type": "stream",
     "text": [
      "12\n"
     ]
    }
   ],
   "source": [
    "print(age)"
   ]
  },
  {
   "cell_type": "code",
   "execution_count": 3,
   "id": "9451aa49",
   "metadata": {},
   "outputs": [
    {
     "name": "stdout",
     "output_type": "stream",
     "text": [
      "7.5\n"
     ]
    }
   ],
   "source": [
    "print(height )"
   ]
  },
  {
   "cell_type": "code",
   "execution_count": 4,
   "id": "09f30bdf",
   "metadata": {},
   "outputs": [
    {
     "name": "stdout",
     "output_type": "stream",
     "text": [
      "True\n"
     ]
    }
   ],
   "source": [
    "print(is_married)"
   ]
  },
  {
   "cell_type": "code",
   "execution_count": 5,
   "id": "bf5294bb",
   "metadata": {},
   "outputs": [
    {
     "name": "stdout",
     "output_type": "stream",
     "text": [
      "evans\n"
     ]
    }
   ],
   "source": [
    "print(name)"
   ]
  },
  {
   "cell_type": "code",
   "execution_count": 6,
   "id": "86938d15",
   "metadata": {},
   "outputs": [
    {
     "name": "stdout",
     "output_type": "stream",
     "text": [
      "<class 'str'>\n"
     ]
    }
   ],
   "source": [
    "print(type(name))"
   ]
  },
  {
   "cell_type": "code",
   "execution_count": 7,
   "id": "11754dd3",
   "metadata": {},
   "outputs": [
    {
     "name": "stdout",
     "output_type": "stream",
     "text": [
      "<class 'float'>\n"
     ]
    }
   ],
   "source": [
    "print(type(height))"
   ]
  },
  {
   "cell_type": "code",
   "execution_count": 8,
   "id": "ed0426e5",
   "metadata": {},
   "outputs": [
    {
     "name": "stdout",
     "output_type": "stream",
     "text": [
      "<class 'bool'>\n"
     ]
    }
   ],
   "source": [
    "print(type(is_married))"
   ]
  },
  {
   "cell_type": "code",
   "execution_count": null,
   "id": "371abef6",
   "metadata": {},
   "outputs": [],
   "source": []
  },
  {
   "cell_type": "code",
   "execution_count": 13,
   "id": "93ccfc6f",
   "metadata": {},
   "outputs": [
    {
     "name": "stdout",
     "output_type": "stream",
     "text": [
      "you are not eligible for this loan application\n"
     ]
    }
   ],
   "source": [
    "is_student = False\n",
    "salary = 800\n",
    "\n",
    "\n",
    "if (is_student == False) and (salary >= 2000):\n",
    "    print(\"you are eligible for this loan application\")\n",
    "else:\n",
    "    print(\"you are not eligible for this loan application\")"
   ]
  },
  {
   "cell_type": "code",
   "execution_count": null,
   "id": "0cf11020",
   "metadata": {},
   "outputs": [],
   "source": []
  },
  {
   "cell_type": "code",
   "execution_count": 14,
   "id": "a4469a4d",
   "metadata": {},
   "outputs": [
    {
     "name": "stdout",
     "output_type": "stream",
     "text": [
      "Are you a student, True or False:   True\n",
      "what is your monthly salary after tax:  2000\n",
      "you are not eligible for this loan application\n"
     ]
    }
   ],
   "source": [
    "student_status = input(\"Are you a student, True or False:   \")\n",
    "    \n",
    "salary = int(input(\"what is your monthly salary after tax:  \"))\n",
    "\n",
    "if (student_status == \"False\") and (salary >= 2000):\n",
    "    print(\"you are eligible for this loan application\")\n",
    "else:\n",
    "    print(\"you are not eligible for this loan application\")"
   ]
  },
  {
   "cell_type": "code",
   "execution_count": null,
   "id": "40809d10",
   "metadata": {},
   "outputs": [],
   "source": []
  }
 ],
 "metadata": {
  "kernelspec": {
   "display_name": "Python 3 (ipykernel)",
   "language": "python",
   "name": "python3"
  },
  "language_info": {
   "codemirror_mode": {
    "name": "ipython",
    "version": 3
   },
   "file_extension": ".py",
   "mimetype": "text/x-python",
   "name": "python",
   "nbconvert_exporter": "python",
   "pygments_lexer": "ipython3",
   "version": "3.10.4"
  }
 },
 "nbformat": 4,
 "nbformat_minor": 5
}
