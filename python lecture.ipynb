{
 "cells": [
  {
   "cell_type": "code",
   "execution_count": 1,
   "id": "8f2cd450",
   "metadata": {},
   "outputs": [],
   "source": [
    "x = 50"
   ]
  },
  {
   "cell_type": "code",
   "execution_count": 2,
   "id": "b2aae84f",
   "metadata": {},
   "outputs": [],
   "source": [
    "c = 80"
   ]
  },
  {
   "cell_type": "code",
   "execution_count": 3,
   "id": "00d3fc51",
   "metadata": {},
   "outputs": [
    {
     "name": "stdout",
     "output_type": "stream",
     "text": [
      "130\n"
     ]
    }
   ],
   "source": [
    "def sum():\n",
    "    sum = x + c\n",
    "    return sum\n",
    "print(sum())"
   ]
  },
  {
   "cell_type": "code",
   "execution_count": null,
   "id": "ea39f0db",
   "metadata": {},
   "outputs": [],
   "source": []
  },
  {
   "cell_type": "code",
   "execution_count": 1,
   "id": "e31b522f",
   "metadata": {},
   "outputs": [],
   "source": [
    "w = 40"
   ]
  },
  {
   "cell_type": "code",
   "execution_count": 7,
   "id": "77722db7",
   "metadata": {},
   "outputs": [],
   "source": [
    "Ew = 500"
   ]
  },
  {
   "cell_type": "code",
   "execution_count": null,
   "id": "d48fd5ba",
   "metadata": {},
   "outputs": [],
   "source": []
  },
  {
   "cell_type": "code",
   "execution_count": 8,
   "id": "86d1f52c",
   "metadata": {},
   "outputs": [],
   "source": [
    "age = 90"
   ]
  },
  {
   "cell_type": "code",
   "execution_count": 9,
   "id": "3c0647f6",
   "metadata": {},
   "outputs": [
    {
     "name": "stdout",
     "output_type": "stream",
     "text": [
      "<class 'int'>\n"
     ]
    }
   ],
   "source": [
    "print(type(age))"
   ]
  },
  {
   "cell_type": "code",
   "execution_count": 10,
   "id": "7ed50e56",
   "metadata": {},
   "outputs": [
    {
     "name": "stdout",
     "output_type": "stream",
     "text": [
      "90\n"
     ]
    }
   ],
   "source": [
    "print(age)"
   ]
  },
  {
   "cell_type": "code",
   "execution_count": null,
   "id": "19077314",
   "metadata": {},
   "outputs": [],
   "source": []
  },
  {
   "cell_type": "code",
   "execution_count": 11,
   "id": "c3ce575c",
   "metadata": {},
   "outputs": [],
   "source": [
    "name =(\"evans\")"
   ]
  },
  {
   "cell_type": "code",
   "execution_count": 12,
   "id": "6acd360a",
   "metadata": {},
   "outputs": [
    {
     "name": "stdout",
     "output_type": "stream",
     "text": [
      "evans\n"
     ]
    }
   ],
   "source": [
    "print(name)"
   ]
  },
  {
   "cell_type": "code",
   "execution_count": 13,
   "id": "9cb6ab48",
   "metadata": {},
   "outputs": [
    {
     "name": "stdout",
     "output_type": "stream",
     "text": [
      "<class 'str'>\n"
     ]
    }
   ],
   "source": [
    "print(type(name))"
   ]
  },
  {
   "cell_type": "code",
   "execution_count": null,
   "id": "5119e467",
   "metadata": {},
   "outputs": [],
   "source": []
  },
  {
   "cell_type": "code",
   "execution_count": 1,
   "id": "0d557c53",
   "metadata": {},
   "outputs": [],
   "source": [
    "numbers_of_student = 100"
   ]
  },
  {
   "cell_type": "code",
   "execution_count": 2,
   "id": "7067b85d",
   "metadata": {},
   "outputs": [
    {
     "name": "stdout",
     "output_type": "stream",
     "text": [
      "100\n"
     ]
    }
   ],
   "source": [
    "print(numbers_of_student)"
   ]
  },
  {
   "cell_type": "code",
   "execution_count": 3,
   "id": "94f21799",
   "metadata": {},
   "outputs": [
    {
     "name": "stdout",
     "output_type": "stream",
     "text": [
      "100\n"
     ]
    }
   ],
   "source": [
    "print(numbers_of_student)"
   ]
  },
  {
   "cell_type": "code",
   "execution_count": 1,
   "id": "ed397a87",
   "metadata": {},
   "outputs": [
    {
     "name": "stdout",
     "output_type": "stream",
     "text": [
      "<class 'type'>\n"
     ]
    }
   ],
   "source": [
    "print(type)"
   ]
  },
  {
   "cell_type": "code",
   "execution_count": null,
   "id": "8194eda7",
   "metadata": {},
   "outputs": [],
   "source": []
  },
  {
   "cell_type": "code",
   "execution_count": 2,
   "id": "840cf2ed",
   "metadata": {},
   "outputs": [],
   "source": [
    "age = 45"
   ]
  },
  {
   "cell_type": "code",
   "execution_count": 3,
   "id": "c773d708",
   "metadata": {},
   "outputs": [
    {
     "name": "stdout",
     "output_type": "stream",
     "text": [
      "<class 'int'>\n"
     ]
    }
   ],
   "source": [
    "print(type(age))"
   ]
  },
  {
   "cell_type": "code",
   "execution_count": 4,
   "id": "c016986f",
   "metadata": {},
   "outputs": [
    {
     "name": "stdout",
     "output_type": "stream",
     "text": [
      "45\n"
     ]
    }
   ],
   "source": [
    "print(age)"
   ]
  },
  {
   "cell_type": "code",
   "execution_count": null,
   "id": "c4102912",
   "metadata": {},
   "outputs": [],
   "source": []
  },
  {
   "cell_type": "code",
   "execution_count": 6,
   "id": "f4661e6c",
   "metadata": {},
   "outputs": [],
   "source": [
    "name_of_student = \"evans\""
   ]
  },
  {
   "cell_type": "code",
   "execution_count": 7,
   "id": "d98692b6",
   "metadata": {},
   "outputs": [
    {
     "name": "stdout",
     "output_type": "stream",
     "text": [
      "<class 'str'>\n"
     ]
    }
   ],
   "source": [
    "print(type(name_of_student))"
   ]
  },
  {
   "cell_type": "code",
   "execution_count": 8,
   "id": "ce5cba6c",
   "metadata": {},
   "outputs": [
    {
     "name": "stdout",
     "output_type": "stream",
     "text": [
      "evans\n"
     ]
    }
   ],
   "source": [
    "print(name_of_student)"
   ]
  },
  {
   "cell_type": "code",
   "execution_count": null,
   "id": "2ce2b920",
   "metadata": {},
   "outputs": [],
   "source": []
  },
  {
   "cell_type": "code",
   "execution_count": 9,
   "id": "67d4533f",
   "metadata": {},
   "outputs": [],
   "source": [
    "Overdraft_payment = 40.000"
   ]
  },
  {
   "cell_type": "code",
   "execution_count": 10,
   "id": "10c47c8e",
   "metadata": {},
   "outputs": [
    {
     "name": "stdout",
     "output_type": "stream",
     "text": [
      "<class 'float'>\n"
     ]
    }
   ],
   "source": [
    "print(type(Overdraft_payment))"
   ]
  },
  {
   "cell_type": "code",
   "execution_count": 11,
   "id": "bf7befef",
   "metadata": {},
   "outputs": [
    {
     "name": "stdout",
     "output_type": "stream",
     "text": [
      "40.0\n"
     ]
    }
   ],
   "source": [
    "print(Overdraft_payment)"
   ]
  },
  {
   "cell_type": "code",
   "execution_count": null,
   "id": "981668a5",
   "metadata": {},
   "outputs": [],
   "source": []
  },
  {
   "cell_type": "code",
   "execution_count": 14,
   "id": "883a8988",
   "metadata": {},
   "outputs": [],
   "source": [
    "gender_male = True"
   ]
  },
  {
   "cell_type": "code",
   "execution_count": 15,
   "id": "171917f4",
   "metadata": {},
   "outputs": [
    {
     "name": "stdout",
     "output_type": "stream",
     "text": [
      "<class 'bool'>\n"
     ]
    }
   ],
   "source": [
    "print(type(gender_male))"
   ]
  },
  {
   "cell_type": "code",
   "execution_count": 16,
   "id": "5fb51f58",
   "metadata": {},
   "outputs": [
    {
     "name": "stdout",
     "output_type": "stream",
     "text": [
      "True\n"
     ]
    }
   ],
   "source": [
    "print(gender_male)"
   ]
  },
  {
   "cell_type": "code",
   "execution_count": null,
   "id": "2d92e95c",
   "metadata": {},
   "outputs": [],
   "source": []
  },
  {
   "cell_type": "code",
   "execution_count": null,
   "id": "8e8b5c1f",
   "metadata": {},
   "outputs": [],
   "source": []
  },
  {
   "cell_type": "code",
   "execution_count": null,
   "id": "6007012f",
   "metadata": {},
   "outputs": [],
   "source": []
  },
  {
   "cell_type": "code",
   "execution_count": null,
   "id": "16116838",
   "metadata": {},
   "outputs": [],
   "source": []
  },
  {
   "cell_type": "code",
   "execution_count": null,
   "id": "9c493a97",
   "metadata": {},
   "outputs": [],
   "source": []
  },
  {
   "cell_type": "code",
   "execution_count": null,
   "id": "476c36db",
   "metadata": {},
   "outputs": [],
   "source": []
  },
  {
   "cell_type": "code",
   "execution_count": 1,
   "id": "d534d42c",
   "metadata": {},
   "outputs": [],
   "source": [
    "age = 12\n",
    "height = 7.5\n",
    "is_married = True\n",
    "name = \"evans\""
   ]
  },
  {
   "cell_type": "code",
   "execution_count": 2,
   "id": "1274db09",
   "metadata": {},
   "outputs": [
    {
     "name": "stdout",
     "output_type": "stream",
     "text": [
      "12\n"
     ]
    }
   ],
   "source": [
    "print(age)"
   ]
  },
  {
   "cell_type": "code",
   "execution_count": 3,
   "id": "9451aa49",
   "metadata": {},
   "outputs": [
    {
     "name": "stdout",
     "output_type": "stream",
     "text": [
      "7.5\n"
     ]
    }
   ],
   "source": [
    "print(height )"
   ]
  },
  {
   "cell_type": "code",
   "execution_count": 4,
   "id": "09f30bdf",
   "metadata": {},
   "outputs": [
    {
     "name": "stdout",
     "output_type": "stream",
     "text": [
      "True\n"
     ]
    }
   ],
   "source": [
    "print(is_married)"
   ]
  },
  {
   "cell_type": "code",
   "execution_count": 5,
   "id": "bf5294bb",
   "metadata": {},
   "outputs": [
    {
     "name": "stdout",
     "output_type": "stream",
     "text": [
      "evans\n"
     ]
    }
   ],
   "source": [
    "print(name)"
   ]
  },
  {
   "cell_type": "code",
   "execution_count": 6,
   "id": "86938d15",
   "metadata": {},
   "outputs": [
    {
     "name": "stdout",
     "output_type": "stream",
     "text": [
      "<class 'str'>\n"
     ]
    }
   ],
   "source": [
    "print(type(name))"
   ]
  },
  {
   "cell_type": "code",
   "execution_count": 7,
   "id": "11754dd3",
   "metadata": {},
   "outputs": [
    {
     "name": "stdout",
     "output_type": "stream",
     "text": [
      "<class 'float'>\n"
     ]
    }
   ],
   "source": [
    "print(type(height))"
   ]
  },
  {
   "cell_type": "code",
   "execution_count": 8,
   "id": "ed0426e5",
   "metadata": {},
   "outputs": [
    {
     "name": "stdout",
     "output_type": "stream",
     "text": [
      "<class 'bool'>\n"
     ]
    }
   ],
   "source": [
    "print(type(is_married))"
   ]
  },
  {
   "cell_type": "code",
   "execution_count": null,
   "id": "371abef6",
   "metadata": {},
   "outputs": [],
   "source": []
  },
  {
   "cell_type": "code",
   "execution_count": 13,
   "id": "93ccfc6f",
   "metadata": {},
   "outputs": [
    {
     "name": "stdout",
     "output_type": "stream",
     "text": [
      "you are not eligible for this loan application\n"
     ]
    }
   ],
   "source": [
    "is_student = False\n",
    "salary = 800\n",
    "\n",
    "\n",
    "if (is_student == False) and (salary >= 2000):\n",
    "    print(\"you are eligible for this loan application\")\n",
    "else:\n",
    "    print(\"you are not eligible for this loan application\")"
   ]
  },
  {
   "cell_type": "code",
   "execution_count": null,
   "id": "0cf11020",
   "metadata": {},
   "outputs": [],
   "source": []
  },
  {
   "cell_type": "code",
   "execution_count": 1,
   "id": "a4469a4d",
   "metadata": {},
   "outputs": [
    {
     "name": "stdout",
     "output_type": "stream",
     "text": [
      "Are you a student, True or False:   True\n",
      "what is your monthly salary after tax:  3000\n",
      "you are not eligible for this loan application\n"
     ]
    }
   ],
   "source": [
    "student_status = input(\"Are you a student, True or False:   \")\n",
    "    \n",
    "salary = int(input(\"what is your monthly salary after tax:  \"))\n",
    "\n",
    "if (student_status == \"False\") and (salary >= 2000):\n",
    "    print(\"you are eligible for this loan application\")\n",
    "else:\n",
    "    print(\"you are not eligible for this loan application\")"
   ]
  },
  {
   "cell_type": "code",
   "execution_count": null,
   "id": "40809d10",
   "metadata": {},
   "outputs": [],
   "source": []
  },
  {
   "cell_type": "code",
   "execution_count": 2,
   "id": "17238a2f",
   "metadata": {},
   "outputs": [],
   "source": [
    "n = (1)"
   ]
  },
  {
   "cell_type": "code",
   "execution_count": 3,
   "id": "00563cbb",
   "metadata": {},
   "outputs": [
    {
     "name": "stdout",
     "output_type": "stream",
     "text": [
      "1\n"
     ]
    }
   ],
   "source": [
    "print(n)"
   ]
  },
  {
   "cell_type": "code",
   "execution_count": 4,
   "id": "b485e8c5",
   "metadata": {},
   "outputs": [
    {
     "name": "stdout",
     "output_type": "stream",
     "text": [
      "<class 'int'>\n"
     ]
    }
   ],
   "source": [
    "print(type(n))"
   ]
  },
  {
   "cell_type": "code",
   "execution_count": null,
   "id": "ec119026",
   "metadata": {},
   "outputs": [],
   "source": []
  },
  {
   "cell_type": "code",
   "execution_count": null,
   "id": "01989501",
   "metadata": {},
   "outputs": [],
   "source": []
  },
  {
   "cell_type": "code",
   "execution_count": 15,
   "id": "28a257e7",
   "metadata": {},
   "outputs": [],
   "source": [
    "import calendar"
   ]
  },
  {
   "cell_type": "code",
   "execution_count": 16,
   "id": "131ad902",
   "metadata": {},
   "outputs": [],
   "source": [
    "cal = calendar.month(2023, 4)"
   ]
  },
  {
   "cell_type": "code",
   "execution_count": 17,
   "id": "d1fdcbe0",
   "metadata": {},
   "outputs": [
    {
     "name": "stdout",
     "output_type": "stream",
     "text": [
      "here is the calendar:  \n"
     ]
    }
   ],
   "source": [
    "print(\"here is the calendar:  \")"
   ]
  },
  {
   "cell_type": "code",
   "execution_count": 18,
   "id": "0ef56f47",
   "metadata": {},
   "outputs": [
    {
     "name": "stdout",
     "output_type": "stream",
     "text": [
      "     April 2023\n",
      "Mo Tu We Th Fr Sa Su\n",
      "                1  2\n",
      " 3  4  5  6  7  8  9\n",
      "10 11 12 13 14 15 16\n",
      "17 18 19 20 21 22 23\n",
      "24 25 26 27 28 29 30\n",
      "\n"
     ]
    }
   ],
   "source": [
    "print(cal)"
   ]
  },
  {
   "cell_type": "code",
   "execution_count": null,
   "id": "5ccb35cd",
   "metadata": {},
   "outputs": [],
   "source": []
  },
  {
   "cell_type": "code",
   "execution_count": 19,
   "id": "8a3fefcd",
   "metadata": {},
   "outputs": [],
   "source": [
    "import calendar"
   ]
  },
  {
   "cell_type": "code",
   "execution_count": 20,
   "id": "14667890",
   "metadata": {},
   "outputs": [],
   "source": [
    "cal = calendar.month(1993, 7)"
   ]
  },
  {
   "cell_type": "code",
   "execution_count": 21,
   "id": "4de05ad0",
   "metadata": {},
   "outputs": [
    {
     "name": "stdout",
     "output_type": "stream",
     "text": [
      "here is the calendar:  \n"
     ]
    }
   ],
   "source": [
    "print(\"here is the calendar:  \")"
   ]
  },
  {
   "cell_type": "code",
   "execution_count": 22,
   "id": "643ecff1",
   "metadata": {},
   "outputs": [
    {
     "name": "stdout",
     "output_type": "stream",
     "text": [
      "     July 1993\n",
      "Mo Tu We Th Fr Sa Su\n",
      "          1  2  3  4\n",
      " 5  6  7  8  9 10 11\n",
      "12 13 14 15 16 17 18\n",
      "19 20 21 22 23 24 25\n",
      "26 27 28 29 30 31\n",
      "\n"
     ]
    }
   ],
   "source": [
    "print(cal)"
   ]
  },
  {
   "cell_type": "code",
   "execution_count": null,
   "id": "4f0f4972",
   "metadata": {},
   "outputs": [],
   "source": []
  },
  {
   "cell_type": "code",
   "execution_count": 1,
   "id": "643961c0",
   "metadata": {},
   "outputs": [],
   "source": [
    "import time"
   ]
  },
  {
   "cell_type": "code",
   "execution_count": 2,
   "id": "75539325",
   "metadata": {},
   "outputs": [
    {
     "name": "stdout",
     "output_type": "stream",
     "text": [
      "<module 'time' (built-in)>\n"
     ]
    }
   ],
   "source": [
    "print(time)"
   ]
  },
  {
   "cell_type": "code",
   "execution_count": 3,
   "id": "521e917e",
   "metadata": {},
   "outputs": [
    {
     "name": "stdout",
     "output_type": "stream",
     "text": [
      "<class 'module'>\n"
     ]
    }
   ],
   "source": [
    "print(type(time))"
   ]
  },
  {
   "cell_type": "code",
   "execution_count": null,
   "id": "2be26eaa",
   "metadata": {},
   "outputs": [],
   "source": []
  },
  {
   "cell_type": "code",
   "execution_count": null,
   "id": "b97f2fdf",
   "metadata": {},
   "outputs": [],
   "source": []
  },
  {
   "cell_type": "code",
   "execution_count": 9,
   "id": "fe209706",
   "metadata": {},
   "outputs": [
    {
     "name": "stdout",
     "output_type": "stream",
     "text": [
      "how old are you    20\n",
      "you are not qualified for this loan\n"
     ]
    }
   ],
   "source": [
    "amount_of_bank_loan_allowed = 20000\n",
    "\n",
    "student_age_allowed_to_apply = 20\n",
    "\n",
    "input(\"how old are you    \")\n",
    "\n",
    "if student_age_allowed_to_apply <= 20:\n",
    "    print(\"you are not qualified for this loan\")\n",
    "    \n",
    "else:\n",
    "    \n",
    "    print(\"Congratulations you are qualified to apply for this loan\")"
   ]
  },
  {
   "cell_type": "code",
   "execution_count": null,
   "id": "7f50e703",
   "metadata": {},
   "outputs": [],
   "source": []
  },
  {
   "cell_type": "code",
   "execution_count": null,
   "id": "1181632f",
   "metadata": {},
   "outputs": [],
   "source": []
  },
  {
   "cell_type": "code",
   "execution_count": 18,
   "id": "aa2042c8",
   "metadata": {},
   "outputs": [
    {
     "name": "stdout",
     "output_type": "stream",
     "text": [
      "how much do you have for your product 10,000\n",
      "your request has been Denied\n"
     ]
    }
   ],
   "source": [
    "product_price = 10,000\n",
    "\n",
    "customer_payment = 5,000\n",
    "\n",
    "input(\"how much do you have for your product \")\n",
    "\n",
    "\n",
    "if customer_payment>=product_price:\n",
    "    \n",
    "    print(\"you are permited to purchase this item\" )\n",
    "    \n",
    "else:\n",
    "    print(\"your request has been Denied\")"
   ]
  },
  {
   "cell_type": "code",
   "execution_count": null,
   "id": "79bef4be",
   "metadata": {},
   "outputs": [],
   "source": []
  },
  {
   "cell_type": "code",
   "execution_count": null,
   "id": "169a96cd",
   "metadata": {},
   "outputs": [],
   "source": []
  },
  {
   "cell_type": "code",
   "execution_count": null,
   "id": "0256b25a",
   "metadata": {},
   "outputs": [],
   "source": []
  },
  {
   "cell_type": "code",
   "execution_count": 2,
   "id": "a029eade",
   "metadata": {},
   "outputs": [
    {
     "name": "stdout",
     "output_type": "stream",
     "text": [
      "how old are you  24\n",
      "you can proceed with your loan applications\n"
     ]
    }
   ],
   "source": [
    "loan_amount_allowed = 20,000\n",
    "age_allowed_to_apply_for_loan = 25\n",
    "input(\"how old are you  \")\n",
    "if age_allowed_to_apply_for_loan > 25:\n",
    "    print(\"you are not parmitted to appkly for this loan\")\n",
    "else:\n",
    "    print(\"you can proceed with your loan applications\")"
   ]
  },
  {
   "cell_type": "code",
   "execution_count": null,
   "id": "b787212f",
   "metadata": {},
   "outputs": [],
   "source": []
  },
  {
   "cell_type": "code",
   "execution_count": 1,
   "id": "e128bc5a",
   "metadata": {},
   "outputs": [],
   "source": [
    "names_of_students = \"evans,tope,abbey,tobi,ope\""
   ]
  },
  {
   "cell_type": "code",
   "execution_count": 2,
   "id": "b0b8ffce",
   "metadata": {},
   "outputs": [
    {
     "name": "stdout",
     "output_type": "stream",
     "text": [
      "evans,tope,abbey,tobi,ope\n"
     ]
    }
   ],
   "source": [
    "print(names_of_students)"
   ]
  },
  {
   "cell_type": "code",
   "execution_count": 4,
   "id": "4fe03109",
   "metadata": {},
   "outputs": [
    {
     "name": "stdout",
     "output_type": "stream",
     "text": [
      "<class 'str'>\n"
     ]
    }
   ],
   "source": [
    "print(type(names_of_students))"
   ]
  },
  {
   "cell_type": "code",
   "execution_count": null,
   "id": "4d133f7f",
   "metadata": {},
   "outputs": [],
   "source": []
  },
  {
   "cell_type": "code",
   "execution_count": 1,
   "id": "0e56f2dc",
   "metadata": {},
   "outputs": [],
   "source": [
    "payment = 50,0000"
   ]
  },
  {
   "cell_type": "code",
   "execution_count": 2,
   "id": "fe85e7ec",
   "metadata": {},
   "outputs": [
    {
     "name": "stdout",
     "output_type": "stream",
     "text": [
      "<class 'tuple'>\n"
     ]
    }
   ],
   "source": [
    "print(type(payment))"
   ]
  },
  {
   "cell_type": "code",
   "execution_count": 3,
   "id": "60febcba",
   "metadata": {},
   "outputs": [
    {
     "name": "stdout",
     "output_type": "stream",
     "text": [
      "(50, 0)\n"
     ]
    }
   ],
   "source": [
    "print(payment)"
   ]
  },
  {
   "cell_type": "code",
   "execution_count": null,
   "id": "8e18280f",
   "metadata": {},
   "outputs": [],
   "source": []
  },
  {
   "cell_type": "code",
   "execution_count": 4,
   "id": "b96a027e",
   "metadata": {},
   "outputs": [],
   "source": [
    "payment = 20.0"
   ]
  },
  {
   "cell_type": "code",
   "execution_count": 5,
   "id": "1a17867a",
   "metadata": {},
   "outputs": [
    {
     "name": "stdout",
     "output_type": "stream",
     "text": [
      "<class 'float'>\n"
     ]
    }
   ],
   "source": [
    "print(type(payment))"
   ]
  },
  {
   "cell_type": "code",
   "execution_count": null,
   "id": "08a56ed2",
   "metadata": {},
   "outputs": [],
   "source": []
  },
  {
   "cell_type": "code",
   "execution_count": 1,
   "id": "9b1f14cf",
   "metadata": {},
   "outputs": [],
   "source": [
    "age = 12\n",
    "height = 7.5\n",
    "is_married = True\n",
    "name = \"evans\""
   ]
  },
  {
   "cell_type": "code",
   "execution_count": 2,
   "id": "56650e87",
   "metadata": {},
   "outputs": [
    {
     "name": "stdout",
     "output_type": "stream",
     "text": [
      "12\n"
     ]
    }
   ],
   "source": [
    "print(age)"
   ]
  },
  {
   "cell_type": "code",
   "execution_count": 3,
   "id": "21e13037",
   "metadata": {},
   "outputs": [
    {
     "name": "stdout",
     "output_type": "stream",
     "text": [
      "7.5\n"
     ]
    }
   ],
   "source": [
    "print(height)"
   ]
  },
  {
   "cell_type": "code",
   "execution_count": 4,
   "id": "bbbdf802",
   "metadata": {},
   "outputs": [
    {
     "name": "stdout",
     "output_type": "stream",
     "text": [
      "True\n"
     ]
    }
   ],
   "source": [
    "print(is_married)"
   ]
  },
  {
   "cell_type": "code",
   "execution_count": 5,
   "id": "2b5a22a4",
   "metadata": {},
   "outputs": [
    {
     "name": "stdout",
     "output_type": "stream",
     "text": [
      "evans\n"
     ]
    }
   ],
   "source": [
    "print(name)"
   ]
  },
  {
   "cell_type": "code",
   "execution_count": 7,
   "id": "24317702",
   "metadata": {},
   "outputs": [
    {
     "name": "stdout",
     "output_type": "stream",
     "text": [
      "<class 'str'>\n"
     ]
    }
   ],
   "source": [
    "print(type(name))"
   ]
  },
  {
   "cell_type": "code",
   "execution_count": 8,
   "id": "eb6449f2",
   "metadata": {},
   "outputs": [
    {
     "name": "stdout",
     "output_type": "stream",
     "text": [
      "<class 'float'>\n"
     ]
    }
   ],
   "source": [
    "print(type(height))"
   ]
  },
  {
   "cell_type": "code",
   "execution_count": 10,
   "id": "2d106523",
   "metadata": {},
   "outputs": [
    {
     "name": "stdout",
     "output_type": "stream",
     "text": [
      "<class 'bool'>\n"
     ]
    }
   ],
   "source": [
    "print(type(is_married))"
   ]
  },
  {
   "cell_type": "code",
   "execution_count": null,
   "id": "d1153a74",
   "metadata": {},
   "outputs": [],
   "source": []
  },
  {
   "cell_type": "code",
   "execution_count": 13,
   "id": "d7ffda4a",
   "metadata": {},
   "outputs": [],
   "source": [
    "numbers = [30,1,9,78,40,32,49,21,43]"
   ]
  },
  {
   "cell_type": "code",
   "execution_count": 14,
   "id": "df88453a",
   "metadata": {},
   "outputs": [
    {
     "name": "stdout",
     "output_type": "stream",
     "text": [
      "[30, 1, 9, 78, 40, 32, 49, 21, 43]\n"
     ]
    }
   ],
   "source": [
    "print(numbers)"
   ]
  },
  {
   "cell_type": "code",
   "execution_count": 15,
   "id": "8bb1c2e7",
   "metadata": {},
   "outputs": [],
   "source": [
    "numbers.append(100)"
   ]
  },
  {
   "cell_type": "code",
   "execution_count": 16,
   "id": "94456c9d",
   "metadata": {},
   "outputs": [
    {
     "name": "stdout",
     "output_type": "stream",
     "text": [
      "[30, 1, 9, 78, 40, 32, 49, 21, 43, 100]\n"
     ]
    }
   ],
   "source": [
    "print(numbers)"
   ]
  },
  {
   "cell_type": "code",
   "execution_count": 17,
   "id": "b2c7ec93",
   "metadata": {},
   "outputs": [],
   "source": [
    "numbers.remove(1)"
   ]
  },
  {
   "cell_type": "code",
   "execution_count": 18,
   "id": "2e233759",
   "metadata": {},
   "outputs": [
    {
     "name": "stdout",
     "output_type": "stream",
     "text": [
      "[30, 9, 78, 40, 32, 49, 21, 43, 100]\n"
     ]
    }
   ],
   "source": [
    "print(numbers)"
   ]
  },
  {
   "cell_type": "code",
   "execution_count": 19,
   "id": "6467aaff",
   "metadata": {},
   "outputs": [
    {
     "name": "stdout",
     "output_type": "stream",
     "text": [
      "<class 'list'>\n"
     ]
    }
   ],
   "source": [
    "print(type(numbers))"
   ]
  },
  {
   "cell_type": "code",
   "execution_count": null,
   "id": "60f6c5cd",
   "metadata": {},
   "outputs": [],
   "source": []
  },
  {
   "cell_type": "code",
   "execution_count": 20,
   "id": "77839df4",
   "metadata": {},
   "outputs": [],
   "source": [
    "names_of_students_in_class_today = {\"evans,seyi,foli,tobi,tosin\"}"
   ]
  },
  {
   "cell_type": "code",
   "execution_count": 21,
   "id": "ae507ec9",
   "metadata": {},
   "outputs": [
    {
     "name": "stdout",
     "output_type": "stream",
     "text": [
      "<class 'set'>\n"
     ]
    }
   ],
   "source": [
    "print(type(names_of_students_in_class_today))"
   ]
  },
  {
   "cell_type": "code",
   "execution_count": 24,
   "id": "cead8d19",
   "metadata": {},
   "outputs": [
    {
     "name": "stdout",
     "output_type": "stream",
     "text": [
      "{'evans,seyi,foli,tobi,tosin'}\n"
     ]
    }
   ],
   "source": [
    "print(names_of_students_in_class_today)"
   ]
  },
  {
   "cell_type": "code",
   "execution_count": null,
   "id": "96a911d8",
   "metadata": {},
   "outputs": [],
   "source": []
  },
  {
   "cell_type": "code",
   "execution_count": 25,
   "id": "fa51d5e3",
   "metadata": {},
   "outputs": [],
   "source": [
    "names_of_debtors = (\"watkins, adekunle,adeyemi,kunle\")"
   ]
  },
  {
   "cell_type": "code",
   "execution_count": 26,
   "id": "6904b246",
   "metadata": {},
   "outputs": [
    {
     "name": "stdout",
     "output_type": "stream",
     "text": [
      "<class 'str'>\n"
     ]
    }
   ],
   "source": [
    "print(type(names_of_debtors))"
   ]
  },
  {
   "cell_type": "code",
   "execution_count": 28,
   "id": "86c514cc",
   "metadata": {},
   "outputs": [
    {
     "name": "stdout",
     "output_type": "stream",
     "text": [
      "watkins, adekunle,adeyemi,kunle\n"
     ]
    }
   ],
   "source": [
    "print(names_of_debtors)"
   ]
  },
  {
   "cell_type": "code",
   "execution_count": null,
   "id": "4dbabddf",
   "metadata": {},
   "outputs": [],
   "source": []
  },
  {
   "cell_type": "code",
   "execution_count": 1,
   "id": "01d9d5ea",
   "metadata": {},
   "outputs": [],
   "source": [
    "total_amount_of_loan_collected_by_customers = [890, 32.98, 124.80, 632.00, 267.0, 458.09, 111.894, 500.89, 490.43]"
   ]
  },
  {
   "cell_type": "code",
   "execution_count": 2,
   "id": "c0e42390",
   "metadata": {},
   "outputs": [
    {
     "name": "stdout",
     "output_type": "stream",
     "text": [
      "<class 'list'>\n"
     ]
    }
   ],
   "source": [
    "print(type(total_amount_of_loan_collected_by_customers))"
   ]
  },
  {
   "cell_type": "code",
   "execution_count": 4,
   "id": "b3fe2982",
   "metadata": {},
   "outputs": [
    {
     "name": "stdout",
     "output_type": "stream",
     "text": [
      "[890, 32.98, 124.8, 632.0, 267.0, 458.09, 111.894, 500.89, 490.43]\n"
     ]
    }
   ],
   "source": [
    "print(total_amount_of_loan_collected_by_customers)"
   ]
  },
  {
   "cell_type": "code",
   "execution_count": 8,
   "id": "179dc4e1",
   "metadata": {},
   "outputs": [
    {
     "name": "stdout",
     "output_type": "stream",
     "text": [
      "[890, 32.98, 124.8, 632.0]\n"
     ]
    }
   ],
   "source": [
    "print(total_amount_of_loan_collected_by_customers[0:4])"
   ]
  },
  {
   "cell_type": "code",
   "execution_count": 12,
   "id": "d15af740",
   "metadata": {},
   "outputs": [
    {
     "name": "stdout",
     "output_type": "stream",
     "text": [
      "[890, 32.98, 124.8, 632.0, 267.0, 458.09, 111.894]\n"
     ]
    }
   ],
   "source": [
    "print(total_amount_of_loan_collected_by_customers[0:7])"
   ]
  },
  {
   "cell_type": "code",
   "execution_count": null,
   "id": "1eff7547",
   "metadata": {},
   "outputs": [],
   "source": []
  },
  {
   "cell_type": "code",
   "execution_count": 13,
   "id": "50ec43fd",
   "metadata": {},
   "outputs": [],
   "source": [
    "total_amount_of_loan_collected_by_customers.append(800.87)"
   ]
  },
  {
   "cell_type": "code",
   "execution_count": 14,
   "id": "19841322",
   "metadata": {},
   "outputs": [],
   "source": [
    "total_amount_of_loan_collected_by_customers.append(1000.5)"
   ]
  },
  {
   "cell_type": "code",
   "execution_count": 15,
   "id": "88f7f75e",
   "metadata": {},
   "outputs": [
    {
     "name": "stdout",
     "output_type": "stream",
     "text": [
      "[890, 32.98, 124.8, 632.0, 267.0, 458.09, 111.894, 500.89, 490.43, 800.87, 1000.5]\n"
     ]
    }
   ],
   "source": [
    "print(total_amount_of_loan_collected_by_customers)"
   ]
  },
  {
   "cell_type": "code",
   "execution_count": 16,
   "id": "8fd80ff2",
   "metadata": {},
   "outputs": [],
   "source": [
    "total_amount_of_loan_collected_by_customers.remove(890)"
   ]
  },
  {
   "cell_type": "code",
   "execution_count": 17,
   "id": "819d8d8d",
   "metadata": {},
   "outputs": [
    {
     "name": "stdout",
     "output_type": "stream",
     "text": [
      "[32.98, 124.8, 632.0, 267.0, 458.09, 111.894, 500.89, 490.43, 800.87, 1000.5]\n"
     ]
    }
   ],
   "source": [
    "print(total_amount_of_loan_collected_by_customers)"
   ]
  },
  {
   "cell_type": "code",
   "execution_count": null,
   "id": "4ac391fc",
   "metadata": {},
   "outputs": [],
   "source": []
  },
  {
   "cell_type": "code",
   "execution_count": null,
   "id": "0c2cb41b",
   "metadata": {},
   "outputs": [],
   "source": []
  },
  {
   "cell_type": "code",
   "execution_count": 1,
   "id": "189c8820",
   "metadata": {},
   "outputs": [
    {
     "name": "stdout",
     "output_type": "stream",
     "text": [
      "what is your weigth  : 88\n",
      "what is your length  : 187\n",
      "195.55555555555554\n",
      "18700\n"
     ]
    }
   ],
   "source": [
    "weight = input('what is your weigth  : ')\n",
    "length = input('what is your length  : ')\n",
    "weight = float(weight)/ 0.45\n",
    "length = int(length) * 100\n",
    "print(weight)\n",
    "print(length )\n"
   ]
  },
  {
   "cell_type": "code",
   "execution_count": null,
   "id": "564af07d",
   "metadata": {},
   "outputs": [],
   "source": []
  },
  {
   "cell_type": "code",
   "execution_count": null,
   "id": "d3350ce5",
   "metadata": {},
   "outputs": [],
   "source": []
  },
  {
   "cell_type": "code",
   "execution_count": null,
   "id": "c294bf49",
   "metadata": {},
   "outputs": [],
   "source": []
  },
  {
   "cell_type": "code",
   "execution_count": null,
   "id": "ae767447",
   "metadata": {},
   "outputs": [],
   "source": []
  },
  {
   "cell_type": "code",
   "execution_count": 9,
   "id": "0adc769b",
   "metadata": {},
   "outputs": [],
   "source": [
    "import sys"
   ]
  },
  {
   "cell_type": "code",
   "execution_count": 42,
   "id": "9ab6f3f3",
   "metadata": {},
   "outputs": [],
   "source": [
    "import matplotlib\n",
    "\n"
   ]
  },
  {
   "cell_type": "code",
   "execution_count": 35,
   "id": "9ff77c42",
   "metadata": {},
   "outputs": [],
   "source": [
    "x = [4,5,10,4,3,11,14,6,10,12]"
   ]
  },
  {
   "cell_type": "code",
   "execution_count": 15,
   "id": "9223aad7",
   "metadata": {},
   "outputs": [],
   "source": [
    "y = [21, 19, 24, 17, 16, 25, 24, 22, 21, 21]"
   ]
  },
  {
   "cell_type": "code",
   "execution_count": 16,
   "id": "6daa84dc",
   "metadata": {},
   "outputs": [
    {
     "name": "stdout",
     "output_type": "stream",
     "text": [
      "<class 'list'>\n"
     ]
    }
   ],
   "source": [
    "print(type(x))"
   ]
  },
  {
   "cell_type": "code",
   "execution_count": 17,
   "id": "fe92aec3",
   "metadata": {},
   "outputs": [
    {
     "name": "stdout",
     "output_type": "stream",
     "text": [
      "<class 'list'>\n"
     ]
    }
   ],
   "source": [
    "print(type(y))"
   ]
  },
  {
   "cell_type": "code",
   "execution_count": 18,
   "id": "fa800a40",
   "metadata": {},
   "outputs": [
    {
     "name": "stdout",
     "output_type": "stream",
     "text": [
      "[4, 5, 10, 4, 3, 11, 14, 6, 10, 12]\n"
     ]
    }
   ],
   "source": [
    "print(x)"
   ]
  },
  {
   "cell_type": "code",
   "execution_count": 19,
   "id": "e3b5d5c8",
   "metadata": {},
   "outputs": [
    {
     "name": "stdout",
     "output_type": "stream",
     "text": [
      "[21, 19, 24, 17, 16, 25, 24, 22, 21, 21]\n"
     ]
    }
   ],
   "source": [
    "print(y)"
   ]
  },
  {
   "cell_type": "code",
   "execution_count": 20,
   "id": "3e88773c",
   "metadata": {},
   "outputs": [],
   "source": [
    "x.append(33)"
   ]
  },
  {
   "cell_type": "code",
   "execution_count": 21,
   "id": "028a74d5",
   "metadata": {},
   "outputs": [],
   "source": [
    "x.append(16)"
   ]
  },
  {
   "cell_type": "code",
   "execution_count": null,
   "id": "d78f54e3",
   "metadata": {},
   "outputs": [],
   "source": []
  },
  {
   "cell_type": "code",
   "execution_count": null,
   "id": "629f155c",
   "metadata": {},
   "outputs": [],
   "source": []
  },
  {
   "cell_type": "code",
   "execution_count": null,
   "id": "2835991e",
   "metadata": {},
   "outputs": [],
   "source": []
  },
  {
   "cell_type": "code",
   "execution_count": 38,
   "id": "64a2e691",
   "metadata": {},
   "outputs": [
    {
     "data": {
      "text/plain": [
       "([[array([ 2, 10]), array([5, 8]), array([4, 9])],\n",
       "  [array([8, 4]), array([7, 5]), array([6, 4])],\n",
       "  [array([2, 5]), array([1, 2])]],\n",
       " array([[3.66666667, 9.        ],\n",
       "        [7.        , 4.33333333],\n",
       "        [1.5       , 3.5       ]]))"
      ]
     },
     "execution_count": 38,
     "metadata": {},
     "output_type": "execute_result"
    }
   ],
   "source": [
    "import numpy as np\n",
    "\n",
    "# Data points\n",
    "data_points = np.array([\n",
    "    [2, 10],  # A1\n",
    "    [2, 5],   # A2\n",
    "    [8, 4],   # A3\n",
    "    [5, 8],   # A4\n",
    "    [7, 5],   # A5\n",
    "    [6, 4],   # A6\n",
    "    [1, 2],   # A7\n",
    "    [4, 9]    # A8\n",
    "])\n",
    "\n",
    "# Initial centroids (C1, C2, C3)\n",
    "initial_centroids = np.array([\n",
    "    [2, 10],  # C1\n",
    "    [5, 8],   # C2\n",
    "    [1, 2]    # C3\n",
    "])\n",
    "\n",
    "# Function to calculate Euclidean distance\n",
    "def euclidean_distance(a, b):\n",
    "    return np.linalg.norm(a - b)\n",
    "\n",
    "# K-means algorithm\n",
    "def k_means(data, centroids, max_iters=100):\n",
    "    for _ in range(max_iters):\n",
    "        # Step 1: Assign points to the nearest centroid\n",
    "        clusters = [[] for _ in range(len(centroids))]\n",
    "        for point in data:\n",
    "            distances = [euclidean_distance(point, centroid) for centroid in centroids]\n",
    "            nearest_centroid = np.argmin(distances)\n",
    "            clusters[nearest_centroid].append(point)\n",
    "        \n",
    "        # Step 2: Update centroids\n",
    "        new_centroids = np.array([np.mean(cluster, axis=0) if len(cluster) > 0 else centroids[i] \n",
    "                                  for i, cluster in enumerate(clusters)])\n",
    "        \n",
    "        # Check for convergence (if centroids do not change)\n",
    "        if np.all(new_centroids == centroids):\n",
    "            break\n",
    "        \n",
    "        centroids = new_centroids\n",
    "    \n",
    "    return clusters, centroids\n",
    "\n",
    "# Run k-means algorithm\n",
    "clusters, final_centroids = k_means(data_points, initial_centroids)\n",
    "\n",
    "# Print the results\n",
    "clusters, final_centroids\n"
   ]
  },
  {
   "cell_type": "code",
   "execution_count": null,
   "id": "c7102578",
   "metadata": {},
   "outputs": [],
   "source": []
  },
  {
   "cell_type": "code",
   "execution_count": null,
   "id": "3b13940b",
   "metadata": {},
   "outputs": [],
   "source": []
  },
  {
   "cell_type": "code",
   "execution_count": null,
   "id": "03d23a0e",
   "metadata": {},
   "outputs": [],
   "source": []
  },
  {
   "cell_type": "code",
   "execution_count": null,
   "id": "a88fe746",
   "metadata": {},
   "outputs": [],
   "source": []
  },
  {
   "cell_type": "code",
   "execution_count": null,
   "id": "5fb9f3c3",
   "metadata": {},
   "outputs": [],
   "source": []
  },
  {
   "cell_type": "code",
   "execution_count": null,
   "id": "3d496f7b",
   "metadata": {},
   "outputs": [],
   "source": []
  },
  {
   "cell_type": "code",
   "execution_count": null,
   "id": "ea4d5dc8",
   "metadata": {},
   "outputs": [],
   "source": []
  },
  {
   "cell_type": "code",
   "execution_count": 37,
   "id": "3d6778ef",
   "metadata": {},
   "outputs": [
    {
     "name": "stdout",
     "output_type": "stream",
     "text": [
      "3.605551275463989\n"
     ]
    }
   ],
   "source": [
    "import numpy as np\n",
    "from scipy.spatial import distance \n",
    "\n",
    "\n",
    "\n",
    "a = (1, 2)\n",
    "b = (3,5)\n",
    "dst = distance.euclidean(a,b)\n",
    "print(dst)"
   ]
  },
  {
   "cell_type": "code",
   "execution_count": null,
   "id": "4ad2a2f2",
   "metadata": {},
   "outputs": [],
   "source": []
  },
  {
   "cell_type": "code",
   "execution_count": null,
   "id": "97e0f8a4",
   "metadata": {},
   "outputs": [],
   "source": []
  },
  {
   "cell_type": "code",
   "execution_count": null,
   "id": "de7299cb",
   "metadata": {},
   "outputs": [],
   "source": []
  },
  {
   "cell_type": "markdown",
   "id": "0264b61d",
   "metadata": {},
   "source": [
    "### ASSIGNMENT "
   ]
  },
  {
   "cell_type": "code",
   "execution_count": 1,
   "id": "89cfb266",
   "metadata": {},
   "outputs": [
    {
     "name": "stdout",
     "output_type": "stream",
     "text": [
      "Enter the first number (X): 590\n",
      "Enter the second number (Y): 56\n",
      "Enter the third number (Z): 23\n"
     ]
    },
    {
     "data": {
      "image/png": "[encoded data removed]",
      "text/plain": [
       "<Figure size 432x288 with 1 Axes>"
      ]
     },
     "metadata": {
      "needs_background": "light"
     },
     "output_type": "display_data"
    }
   ],
   "source": [
    "import matplotlib.pyplot as plt\n",
    "\n",
    "# Step 1: Get user input\n",
    "X = float(input(\"Enter the first number (X): \"))\n",
    "Y = float(input(\"Enter the second number (Y): \"))\n",
    "Z = float(input(\"Enter the third number (Z): \"))\n",
    "\n",
    "# Step 2: Find the minimum number\n",
    "min_number = min(X, Y, Z)\n",
    "\n",
    "# Step 3: Display the result on a 2D object (circle)\n",
    "# Create a figure and axis\n",
    "fig, ax = plt.subplots()\n",
    "\n",
    "# Draw a circle\n",
    "circle = plt.Circle((0.5, 0.5), 0.4, color='green', fill=False)\n",
    "ax.add_artist(circle)\n",
    "\n",
    "# Add the minimum number inside the circle\n",
    "ax.text(0.5, 0.5, str(min_number), horizontalalignment='center', \n",
    "        verticalalignment='center', fontsize=12, color='red')\n",
    "\n",
    "# Set the limits and remove axes\n",
    "ax.set_xlim(0, 1)\n",
    "ax.set_ylim(0, 1)\n",
    "ax.axis('off')\n",
    "\n",
    "# Display the plot\n",
    "plt.title(\"Minimum Number Display\")\n",
    "plt.show()\n"
   ]
  },
  {
   "cell_type": "code",
   "execution_count": null,
   "id": "c61a8021",
   "metadata": {},
   "outputs": [],
   "source": []
  },
  {
   "cell_type": "code",
   "execution_count": null,
   "id": "060a697f",
   "metadata": {},
   "outputs": [],
   "source": []
  }
 ],
 "metadata": {
  "kernelspec": {
   "display_name": "Python 3 (ipykernel)",
   "language": "python",
   "name": "python3"
  },
  "language_info": {
   "codemirror_mode": {
    "name": "ipython",
    "version": 3
   },
   "file_extension": ".py",
   "mimetype": "text/x-python",
   "name": "python",
   "nbconvert_exporter": "python",
   "pygments_lexer": "ipython3",
   "version": "3.10.4"
  }
 },
 "nbformat": 4,
 "nbformat_minor": 5
}
